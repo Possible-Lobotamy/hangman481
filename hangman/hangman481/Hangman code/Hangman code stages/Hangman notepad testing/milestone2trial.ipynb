{
 "cells": [
  {
   "cell_type": "code",
   "execution_count": 58,
   "metadata": {},
   "outputs": [
    {
     "name": "stdout",
     "output_type": "stream",
     "text": [
      "['apple', 'orange', 'banana', 'rasberry', 'strawberry']\n",
      "apple\n",
      "k\n",
      "Sorry, k is not in the word. Try again.\n"
     ]
    }
   ],
   "source": [
    "import random\n",
    "list_of_fruits = ['apple', 'orange', 'banana' , 'rasberry', 'strawberry' ]\n",
    "\n",
    "print(list_of_fruits)\n",
    "\n",
    "random_fruit = random.choice(list_of_fruits)\n",
    "\n",
    "print(random_fruit)\n",
    "\n",
    "while True:\n",
    "\n",
    "  guess = input('Please choose a letter: ')\n",
    "\n",
    "  if guess.isalpha()  and len(guess) == 1:\n",
    "     break\n",
    "  else:\n",
    "     print(\"Invalid letter. Please, enter a single alphabetical character.\")\n",
    "\n",
    "print(guess)\n",
    "\n",
    "if guess in random_fruit:\n",
    "  print(f\"Good guess! {guess} is in the word.\")\n",
    "else: \n",
    "   print(f\"Sorry, {guess} is not in the word. Try again.\")"
   ]
  },
  {
   "cell_type": "code",
   "execution_count": null,
   "metadata": {},
   "outputs": [],
   "source": []
  },
  {
   "cell_type": "code",
   "execution_count": null,
   "metadata": {},
   "outputs": [],
   "source": []
  },
  {
   "cell_type": "code",
   "execution_count": 23,
   "metadata": {},
   "outputs": [
    {
     "name": "stdout",
     "output_type": "stream",
     "text": [
      "<class 'str'>\n",
      "<class 'str'>\n"
     ]
    }
   ],
   "source": [
    "print(type(guess))\n",
    "\n",
    "print(type(random_fruit))\n",
    "\n",
    "if guess in random_fruit:\n",
    " print(\"ok\")"
   ]
  },
  {
   "cell_type": "code",
   "execution_count": 53,
   "metadata": {},
   "outputs": [
    {
     "name": "stdout",
     "output_type": "stream",
     "text": [
      "Sorry, N is not in the word. Try again.\n"
     ]
    }
   ],
   "source": [
    "def check_guess(guess):\n",
    "  guess.lower()\n",
    "  if guess in random_fruit:\n",
    "       print(f\"Good guess! {guess} is in the word.\")\n",
    "  else: \n",
    "       print(f\"Sorry, {guess} is not in the word. Try again.\")\n",
    "\n",
    "check_guess(guess)"
   ]
  },
  {
   "cell_type": "code",
   "execution_count": null,
   "metadata": {},
   "outputs": [],
   "source": []
  },
  {
   "cell_type": "code",
   "execution_count": 60,
   "metadata": {},
   "outputs": [
    {
     "name": "stdout",
     "output_type": "stream",
     "text": [
      "Sorry, k is not in the word. Try again.\n"
     ]
    }
   ],
   "source": [
    "def ask_for_input():\n",
    "    while True:\n",
    "      guess = input('Please choose a letter: ')\n",
    "      if guess.isalpha()  and len(guess) == 1:\n",
    "        break\n",
    "      else:\n",
    "         print(\"Invalid letter. Please, enter a single alphabetical character.\")\n",
    "    check_guess(guess)\n",
    "    \n",
    "ask_for_input()"
   ]
  },
  {
   "cell_type": "code",
   "execution_count": 48,
   "metadata": {},
   "outputs": [
    {
     "name": "stdout",
     "output_type": "stream",
     "text": [
      "f\n"
     ]
    }
   ],
   "source": [
    "print(guess.lower())"
   ]
  },
  {
   "cell_type": "code",
   "execution_count": 59,
   "metadata": {},
   "outputs": [
    {
     "name": "stdout",
     "output_type": "stream",
     "text": [
      "['apple', 'orange', 'banana', 'rasberry', 'strawberry']\n",
      "strawberry\n"
     ]
    },
    {
     "ename": "UnboundLocalError",
     "evalue": "cannot access local variable 'guess' where it is not associated with a value",
     "output_type": "error",
     "traceback": [
      "\u001b[0;31m---------------------------------------------------------------------------\u001b[0m",
      "\u001b[0;31mUnboundLocalError\u001b[0m                         Traceback (most recent call last)",
      "Cell \u001b[0;32mIn[59], line 19\u001b[0m\n\u001b[1;32m     16\u001b[0m       \u001b[38;5;28;01melse\u001b[39;00m:\n\u001b[1;32m     17\u001b[0m          \u001b[38;5;28mprint\u001b[39m(\u001b[38;5;124m\"\u001b[39m\u001b[38;5;124mInvalid letter. Please, enter a single alphabetical character.\u001b[39m\u001b[38;5;124m\"\u001b[39m)\n\u001b[0;32m---> 19\u001b[0m \u001b[43mask_for_input\u001b[49m\u001b[43m(\u001b[49m\u001b[43m)\u001b[49m\n",
      "Cell \u001b[0;32mIn[59], line 11\u001b[0m, in \u001b[0;36mask_for_input\u001b[0;34m()\u001b[0m\n\u001b[1;32m     10\u001b[0m \u001b[38;5;28;01mdef\u001b[39;00m \u001b[38;5;21mask_for_input\u001b[39m():\n\u001b[0;32m---> 11\u001b[0m     check_guess(\u001b[43mguess\u001b[49m)\n\u001b[1;32m     12\u001b[0m     \u001b[38;5;28;01mwhile\u001b[39;00m \u001b[38;5;28;01mTrue\u001b[39;00m:\n\u001b[1;32m     13\u001b[0m       guess \u001b[38;5;241m=\u001b[39m \u001b[38;5;28minput\u001b[39m(\u001b[38;5;124m'\u001b[39m\u001b[38;5;124mPlease choose a letter: \u001b[39m\u001b[38;5;124m'\u001b[39m)\n",
      "\u001b[0;31mUnboundLocalError\u001b[0m: cannot access local variable 'guess' where it is not associated with a value"
     ]
    }
   ],
   "source": [
    "import random\n",
    "list_of_fruits = ['apple', 'orange', 'banana' , 'rasberry', 'strawberry' ]\n",
    "\n",
    "print(list_of_fruits)\n",
    "\n",
    "random_fruit = random.choice(list_of_fruits)\n",
    "\n",
    "print(random_fruit)\n",
    "\n",
    "def ask_for_input():\n",
    "    check_guess(guess)\n",
    "    while True:\n",
    "      guess = input('Please choose a letter: ')\n",
    "      if guess.isalpha()  and len(guess) == 1:\n",
    "        break\n",
    "      else:\n",
    "         print(\"Invalid letter. Please, enter a single alphabetical character.\")\n",
    "\n",
    "ask_for_input()"
   ]
  },
  {
   "cell_type": "code",
   "execution_count": null,
   "metadata": {},
   "outputs": [],
   "source": [
    "import random\n",
    "list_of_fruits = ['apple', 'orange', 'banana' , 'rasberry', 'strawberry' ]\n",
    "random_fruit = random.choice(list_of_fruits)\n",
    "\n",
    "def check_guess(guess):\n",
    "  guess.lower()\n",
    "  if guess in random_fruit:\n",
    "       print(f\"Good guess! {guess} is in the word.\")\n",
    "  else: \n",
    "       print(f\"Sorry, {guess} is not in the word. Try again.\")\n",
    "\n",
    "def ask_for_input():\n",
    "    check_guess(guess)\n",
    "    while True:\n",
    "      guess = input('Please choose a letter: ')\n",
    "      if guess.isalpha()  and len(guess) == 1:\n",
    "        break\n",
    "      else:\n",
    "         print(\"Invalid letter. Please, enter a single alphabetical character.\")\n",
    "\n",
    "ask_for_input()\n"
   ]
  }
 ],
 "metadata": {
  "kernelspec": {
   "display_name": "base",
   "language": "python",
   "name": "python3"
  },
  "language_info": {
   "codemirror_mode": {
    "name": "ipython",
    "version": 3
   },
   "file_extension": ".py",
   "mimetype": "text/x-python",
   "name": "python",
   "nbconvert_exporter": "python",
   "pygments_lexer": "ipython3",
   "version": "3.12.2"
  }
 },
 "nbformat": 4,
 "nbformat_minor": 2
}
