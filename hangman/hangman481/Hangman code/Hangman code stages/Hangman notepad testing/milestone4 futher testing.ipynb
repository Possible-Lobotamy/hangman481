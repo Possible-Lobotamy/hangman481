{
 "cells": [
  {
   "cell_type": "code",
   "execution_count": null,
   "metadata": {},
   "outputs": [],
   "source": [
    "word = \"hello\"\n",
    "var = \"l\"\n",
    "\n",
    "word_list = list(word)\n",
    "print(word_list)\n",
    "rfc_len = len(word_list)\n",
    "print(rfc_len)\n",
    "\n",
    "var_word_list_index = word_list.index(var)\n",
    "print(Var_word_list_index)\n",
    "\n",
    "new_list = rfc_len * [\"_\"]\n",
    "print(new_list)\n",
    "\n",
    "new_list[var_word_list_index] = var\n",
    "print(new_list)\n",
    "\n",
    "\n",
    "\n"
   ]
  }
 ],
 "metadata": {
  "kernelspec": {
   "display_name": "base",
   "language": "python",
   "name": "python3"
  },
  "language_info": {
   "codemirror_mode": {
    "name": "ipython",
    "version": 3
   },
   "file_extension": ".py",
   "mimetype": "text/x-python",
   "name": "python",
   "nbconvert_exporter": "python",
   "pygments_lexer": "ipython3",
   "version": "3.12.2"
  }
 },
 "nbformat": 4,
 "nbformat_minor": 2
}
