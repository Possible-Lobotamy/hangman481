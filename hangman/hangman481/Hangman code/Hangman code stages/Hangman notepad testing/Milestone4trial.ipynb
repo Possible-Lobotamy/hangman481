{
 "cells": [
  {
   "cell_type": "code",
   "execution_count": 1,
   "metadata": {},
   "outputs": [
    {
     "name": "stdout",
     "output_type": "stream",
     "text": [
      "apple\n"
     ]
    }
   ],
   "source": [
    "import random\n",
    "list_of_fruits = ['apple', 'orange', 'banana' , 'rasberry', 'strawberry' ]\n",
    "random_fruit = random.choice(list_of_fruits)\n",
    "list_of_guesses = []\n",
    "\n",
    "r_fruit_chars = list(random_fruit)\n",
    "rfc_len =  len(r_fruit_chars)\n",
    "rfc_hangmanlist_small = [\"_\"]\n",
    "rfc_hangmanlist = rfc_hangmanlist_small * rfc_len\n",
    "\n",
    "set_rfc =  set(r_fruit_chars)\n",
    "rf_num_ulet = len(set_rfc)\n",
    "\n",
    "num_lives = 5\n",
    "\n",
    "\n",
    "print(random_fruit)\n",
    "\n",
    "class Hangman:\n",
    "    def __init__(self, list_of_fruits, num_lives=5):\n",
    "        random_fruit = random.choice(list_of_fruits)\n",
    "        self.random_fruit = random_fruit\n",
    "        r_fruit_chars = list(random_fruit)\n",
    "        rfc_len =  len(r_fruit_chars)\n",
    "        rfc_hangmanlist_small = [\"_\"]\n",
    "        rfc_hangmanlist = r_let_list_small * rfc_len\n",
    "        self.r_fruit_let_list = r_fruit_let_list\n",
    "        self.num_letters = rf_num_ulet\n",
    "        self.num_lives = num_lives \n",
    "        self.list_of_fruits = list_of_fruits\n",
    "        self.list_of_guesses = list_of_guesses\n",
    "\n",
    "def ask_for_input():\n",
    "    while True:\n",
    "      guess = input('Please choose a letter: ')\n",
    "      if guess.isalpha() == False or len(guess) != 1:\n",
    "        print(\"Invalid letter. Please, enter a single alphabetical character.\")\n",
    "      elif guess in list_of_guesses:\n",
    "        print(\"you already tried that letter!\")\n",
    "      else:\n",
    "         if guess.isalpha() and len(guess) == 1:\n",
    "            check_guess(guess)\n",
    "      list_of_guesses.append(guess)\n",
    "\n",
    "def check_guess(guess):\n",
    "  guess.lower()\n",
    "  \n",
    "  if guess in random_fruit:\n",
    "       print(f\"Good guess! {guess} is in the word.\")\n",
    "       guess_index_num = r_fruit_chars.index(guess)\n",
    "       rfc_hangmanlist[guess_index_num] = guess\n",
    "       rf_num_ulet - 1\n",
    "  else: \n",
    "       num_lives - 1\n",
    "       print(f\"Sorry, {guess} is not in the word. Try again.\")\n",
    "       print(f\"You have {num_lives} lives left.\")\n",
    "  \n",
    "     \n",
    "        \n",
    "        \n",
    "        "
   ]
  },
  {
   "cell_type": "code",
   "execution_count": 2,
   "metadata": {},
   "outputs": [
    {
     "name": "stdout",
     "output_type": "stream",
     "text": [
      "Invalid letter. Please, enter a single alphabetical character.\n",
      "Good guess! a is in the word.\n",
      "you already tried that letter!\n",
      "you already tried that letter!\n",
      "you already tried that letter!\n"
     ]
    },
    {
     "ename": "UnboundLocalError",
     "evalue": "cannot access local variable 'num_lives' where it is not associated with a value",
     "output_type": "error",
     "traceback": [
      "\u001b[0;31m---------------------------------------------------------------------------\u001b[0m",
      "\u001b[0;31mUnboundLocalError\u001b[0m                         Traceback (most recent call last)",
      "Cell \u001b[0;32mIn[2], line 1\u001b[0m\n\u001b[0;32m----> 1\u001b[0m \u001b[43mask_for_input\u001b[49m\u001b[43m(\u001b[49m\u001b[43m)\u001b[49m\n",
      "Cell \u001b[0;32mIn[1], line 42\u001b[0m, in \u001b[0;36mask_for_input\u001b[0;34m()\u001b[0m\n\u001b[1;32m     40\u001b[0m \u001b[38;5;28;01melse\u001b[39;00m:\n\u001b[1;32m     41\u001b[0m    \u001b[38;5;28;01mif\u001b[39;00m guess\u001b[38;5;241m.\u001b[39misalpha() \u001b[38;5;129;01mand\u001b[39;00m \u001b[38;5;28mlen\u001b[39m(guess) \u001b[38;5;241m==\u001b[39m \u001b[38;5;241m1\u001b[39m:\n\u001b[0;32m---> 42\u001b[0m       \u001b[43mcheck_guess\u001b[49m\u001b[43m(\u001b[49m\u001b[43mguess\u001b[49m\u001b[43m)\u001b[49m\n\u001b[1;32m     43\u001b[0m list_of_guesses\u001b[38;5;241m.\u001b[39mappend(guess)\n",
      "Cell \u001b[0;32mIn[1], line 54\u001b[0m, in \u001b[0;36mcheck_guess\u001b[0;34m(guess)\u001b[0m\n\u001b[1;32m     52\u001b[0m      rf_num_ulet \u001b[38;5;241m-\u001b[39m \u001b[38;5;241m1\u001b[39m\n\u001b[1;32m     53\u001b[0m \u001b[38;5;28;01melse\u001b[39;00m: \n\u001b[0;32m---> 54\u001b[0m      \u001b[43mnum_lives\u001b[49m \u001b[38;5;241m-\u001b[39m\u001b[38;5;241m=\u001b[39m \u001b[38;5;241m1\u001b[39m\n\u001b[1;32m     55\u001b[0m      \u001b[38;5;28mprint\u001b[39m(\u001b[38;5;124mf\u001b[39m\u001b[38;5;124m\"\u001b[39m\u001b[38;5;124mSorry, \u001b[39m\u001b[38;5;132;01m{\u001b[39;00mguess\u001b[38;5;132;01m}\u001b[39;00m\u001b[38;5;124m is not in the word. Try again.\u001b[39m\u001b[38;5;124m\"\u001b[39m)\n\u001b[1;32m     56\u001b[0m      \u001b[38;5;28mprint\u001b[39m(\u001b[38;5;124mf\u001b[39m\u001b[38;5;124m\"\u001b[39m\u001b[38;5;124mYou have \u001b[39m\u001b[38;5;132;01m{\u001b[39;00mnum_lives\u001b[38;5;132;01m}\u001b[39;00m\u001b[38;5;124m lives left.\u001b[39m\u001b[38;5;124m\"\u001b[39m)\n",
      "\u001b[0;31mUnboundLocalError\u001b[0m: cannot access local variable 'num_lives' where it is not associated with a value"
     ]
    }
   ],
   "source": [
    "ask_for_input()\n",
    "\n"
   ]
  }
 ],
 "metadata": {
  "kernelspec": {
   "display_name": "base",
   "language": "python",
   "name": "python3"
  },
  "language_info": {
   "codemirror_mode": {
    "name": "ipython",
    "version": 3
   },
   "file_extension": ".py",
   "mimetype": "text/x-python",
   "name": "python",
   "nbconvert_exporter": "python",
   "pygments_lexer": "ipython3",
   "version": "3.12.2"
  }
 },
 "nbformat": 4,
 "nbformat_minor": 2
}
