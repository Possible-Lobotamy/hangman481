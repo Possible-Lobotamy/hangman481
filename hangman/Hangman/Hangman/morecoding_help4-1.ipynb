{
 "cells": [
  {
   "cell_type": "code",
   "execution_count": 2,
   "metadata": {},
   "outputs": [
    {
     "ename": "NameError",
     "evalue": "name 'guess' is not defined",
     "output_type": "error",
     "traceback": [
      "\u001b[0;31m---------------------------------------------------------------------------\u001b[0m",
      "\u001b[0;31mNameError\u001b[0m                                 Traceback (most recent call last)",
      "Cell \u001b[0;32mIn[2], line 10\u001b[0m\n\u001b[1;32m      8\u001b[0m rfc_hangmanlist_small \u001b[38;5;241m=\u001b[39m [\u001b[38;5;124m\"\u001b[39m\u001b[38;5;124m_\u001b[39m\u001b[38;5;124m\"\u001b[39m]\n\u001b[1;32m      9\u001b[0m rfc_hangmanlist \u001b[38;5;241m=\u001b[39m rfc_hangmanlist_small \u001b[38;5;241m*\u001b[39m rfc_len\n\u001b[0;32m---> 10\u001b[0m guess_index \u001b[38;5;241m=\u001b[39m r_fruit_chars\u001b[38;5;241m.\u001b[39mindex(\u001b[43mguess\u001b[49m)\n\u001b[1;32m     12\u001b[0m \u001b[38;5;28mprint\u001b[39m(random_fruit)\n\u001b[1;32m     14\u001b[0m \u001b[38;5;28mprint\u001b[39m(r_fruit_chars)\n",
      "\u001b[0;31mNameError\u001b[0m: name 'guess' is not defined"
     ]
    }
   ],
   "source": [
    "import random\n",
    "list_of_fruits = ['apple', 'orange', 'banana' , 'rasberry', 'strawberry' ]\n",
    "random_fruit = random.choice(list_of_fruits)\n",
    "list_of_guesses = []\n",
    "\n",
    "r_fruit_chars = list(random_fruit)\n",
    "rfc_len =  len(r_fruit_chars)\n",
    "rfc_hangmanlist_small = [\"_\"]\n",
    "rfc_hangmanlist = rfc_hangmanlist_small * rfc_len\n",
    "\n",
    "\n",
    "print(random_fruit)\n",
    "\n",
    "print(r_fruit_chars)\n",
    "print(type(r_fruit_chars))\n",
    "\n",
    "print(rfc_len)\n",
    "print(type(rfc_len))\n",
    "\n",
    "print(rfc_hangmanlist)\n",
    "\n",
    "def ask_for_input():\n",
    "    while True:\n",
    "      guess = input('Please choose a letter: ')\n",
    "      if guess.isalpha() == False or len(guess) != 1:\n",
    "        print(\"Invalid letter. Please, enter a single alphabetical character.\")\n",
    "      elif guess in list_of_guesses:\n",
    "        print(\"you already tried that letter!\")\n",
    "      else:\n",
    "         if guess.isalpha() and len(guess) == 1:\n",
    "            check_guess(guess)\n",
    "      list_of_guesses.append(guess)\n"
   ]
  },
  {
   "cell_type": "code",
   "execution_count": 1,
   "metadata": {},
   "outputs": [
    {
     "ename": "NameError",
     "evalue": "name 'r_fruit_chars' is not defined",
     "output_type": "error",
     "traceback": [
      "\u001b[0;31m---------------------------------------------------------------------------\u001b[0m",
      "\u001b[0;31mNameError\u001b[0m                                 Traceback (most recent call last)",
      "Cell \u001b[0;32mIn[1], line 1\u001b[0m\n\u001b[0;32m----> 1\u001b[0m guess_index \u001b[38;5;241m=\u001b[39m \u001b[43mr_fruit_chars\u001b[49m\u001b[38;5;241m.\u001b[39mindex(guess)\n",
      "\u001b[0;31mNameError\u001b[0m: name 'r_fruit_chars' is not defined"
     ]
    }
   ],
   "source": [
    "guess_index = r_fruit_chars.index(guess)"
   ]
  },
  {
   "cell_type": "code",
   "execution_count": null,
   "metadata": {},
   "outputs": [],
   "source": [
    "def check_guess(guess):\n",
    "  guess.lower()\n",
    "  guess_index = r_fruit_chars.index(guess)\n",
    "  if guess in random_fruit:\n",
    "       print(f\"Good guess! {guess} is in the word.\")\n",
    "  else: \n",
    "       print(f\"Sorry, {guess} is not in the word. Try again.\")\n",
    "  for let in r_fruit_chars:\n",
    "     if let == guess:\n",
    "        rfc_hangmanlist[guess_index] = guess\n",
    "        fruit_char_removed =  r_fruit_chars.remove(guess)\n",
    "        rfc_len_minus = len(fruit_char_removed)\n",
    "        rfc_len - rfc_len_minus\n",
    "\n",
    "print(guess_index)\n",
    "\n",
    "print(rfc_len_minus)\n",
    "print(type,rfc )"
   ]
  }
 ],
 "metadata": {
  "kernelspec": {
   "display_name": "base",
   "language": "python",
   "name": "python3"
  },
  "language_info": {
   "codemirror_mode": {
    "name": "ipython",
    "version": 3
   },
   "file_extension": ".py",
   "mimetype": "text/x-python",
   "name": "python",
   "nbconvert_exporter": "python",
   "pygments_lexer": "ipython3",
   "version": "3.12.2"
  }
 },
 "nbformat": 4,
 "nbformat_minor": 2
}
