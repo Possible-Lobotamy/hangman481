{
 "cells": [
  {
   "cell_type": "code",
   "execution_count": null,
   "metadata": {},
   "outputs": [],
   "source": [
    "import random\n",
    "list_of_fruits = ['apple', 'orange', 'banana' , 'rasberry', 'strawberry' ]\n",
    "random_fruit = random.choice(list_of_fruits)\n",
    "\n",
    "def check_guess(guess):\n",
    "  guess.lower()\n",
    "  if guess in random_fruit:\n",
    "       print(f\"Good guess! {guess} is in the word.\")\n",
    "  else: \n",
    "       print(f\"Sorry, {guess} is not in the word. Try again.\")\n",
    "\n",
    "def ask_for_input():\n",
    "    check_guess(guess)\n",
    "    while True:\n",
    "      guess = input('Please choose a letter: ')\n",
    "      if guess.isalpha()  and len(guess) == 1:\n",
    "        break\n",
    "      else:\n",
    "         print(\"Invalid letter. Please, enter a single alphabetical character.\")\n",
    "\n",
    "ask_for_input()"
   ]
  },
  {
   "cell_type": "code",
   "execution_count": 2,
   "metadata": {},
   "outputs": [],
   "source": [
    "class Hangman:\n",
    "    def __init__(self, list_of_fruits, num_lives=5):\n",
    "        self.random_fruit = random_fruit\n",
    "        r_fruit_chars = list(random_fruit)\n",
    "        rfc_len =  len(r_fruit_chars)\n",
    "        rf_let_list_small = [\"_\"]\n",
    "        r_fruit_let_list = rf_let_list_small * rfc_len\n",
    "        self.r_fruit_let_list = r_fruit_let_list\n",
    "        self.num_letters = rfc_len\n",
    "        self.num_lives = num_lives \n",
    "        self.list_of_fruits = list_of_fruits\n",
    "        self.list_of_guesses = []\n",
    "\n",
    "        \n",
    "\n",
    "    "
   ]
  },
  {
   "cell_type": "code",
   "execution_count": 23,
   "metadata": {},
   "outputs": [
    {
     "name": "stdout",
     "output_type": "stream",
     "text": [
      "['H', 'e', 'l', 'l', 'o']\n"
     ]
    },
    {
     "data": {
      "text/plain": [
       "5"
      ]
     },
     "execution_count": 23,
     "metadata": {},
     "output_type": "execute_result"
    }
   ],
   "source": [
    "yo = \"Hello\"\n",
    "\n",
    "yoyo = list(yo)\n",
    "\n",
    "print(yoyo)\n",
    "\n",
    "len(yoyo)\n"
   ]
  },
  {
   "cell_type": "code",
   "execution_count": null,
   "metadata": {},
   "outputs": [
    {
     "name": "stdout",
     "output_type": "stream",
     "text": [
      "Sorry, k is not in the word. Try again.\n",
      "Sorry, k is not in the word. Try again.\n",
      "Sorry, n is not in the word. Try again.\n",
      "Sorry, m is not in the word. Try again.\n",
      "Good guess! p is in the word.\n",
      "Invalid letter. Please, enter a single alphabetical character.\n",
      "Invalid letter. Please, enter a single alphabetical character.\n"
     ]
    }
   ],
   "source": [
    "import random\n",
    "list_of_fruits = ['apple', 'orange', 'banana' , 'rasberry', 'strawberry' ]\n",
    "random_fruit = random.choice(list_of_fruits)\n",
    "\n",
    "class Hangman:\n",
    "    def __init__(self, list_of_fruits, num_lives=5):\n",
    "        self.random_fruit = random_fruit\n",
    "        r_fruit_chars = list(random_fruit)\n",
    "        rfc_len =  len(r_fruit_chars)\n",
    "        rf_let_list_small = [\"_\"]\n",
    "        r_fruit_let_list = rf_let_list_small * rfc_len\n",
    "        self.r_fruit_let_list = r_fruit_let_list\n",
    "        self.num_letters = rfc_len\n",
    "        self.num_lives = num_lives \n",
    "        self.list_of_fruits = list_of_fruits\n",
    "        list_of_guesses = []\n",
    "        self.list_of_guesses = list_of_guesses\n",
    "\n",
    "def check_guess(guess):\n",
    "  guess.lower()\n",
    "  if guess in random_fruit:\n",
    "       print(f\"Good guess! {guess} is in the word.\")\n",
    "  else: \n",
    "       print(f\"Sorry, {guess} is not in the word. Try again.\")\n",
    "\n",
    "def ask_for_input():\n",
    "    while True:\n",
    "      list_of_guesses = []\n",
    "      guess = input('Please choose a letter: ')\n",
    "      if guess.isalpha() == False and len(guess) != 1:\n",
    "        print(\"Invalid letter. Please, enter a single alphabetical character.\")\n",
    "      elif guess in list_of_guesses:\n",
    "        print(\"you already ried that letter!\")\n",
    "      else:\n",
    "         if guess.isalpha() and len(guess) == 1:\n",
    "            check_guess(guess)\n",
    "         list_of_guesses.append(guess)\n",
    "\n",
    "ask_for_input()\n",
    "\n",
    "\n"
   ]
  },
  {
   "cell_type": "code",
   "execution_count": 3,
   "metadata": {},
   "outputs": [
    {
     "name": "stdout",
     "output_type": "stream",
     "text": [
      "it still works\n"
     ]
    }
   ],
   "source": [
    "var = \"B\"\n",
    "if var.isalpha() == False and len(var) != 1:\n",
    "    print(\"it works\")\n",
    "else:\n",
    "    print(\"it still works\")"
   ]
  },
  {
   "cell_type": "code",
   "execution_count": null,
   "metadata": {},
   "outputs": [],
   "source": [
    "#This is a barrier "
   ]
  },
  {
   "cell_type": "code",
   "execution_count": 8,
   "metadata": {},
   "outputs": [
    {
     "name": "stdout",
     "output_type": "stream",
     "text": [
      "rasberry\n"
     ]
    }
   ],
   "source": [
    "import random\n",
    "list_of_fruits = ['apple', 'orange', 'banana' , 'rasberry', 'strawberry' ]\n",
    "random_fruit = random.choice(list_of_fruits)\n",
    "list_of_guesses = []\n",
    "print(random_fruit)"
   ]
  },
  {
   "cell_type": "code",
   "execution_count": 10,
   "metadata": {},
   "outputs": [],
   "source": [
    "class Hangman:\n",
    "    def __init__(self, list_of_fruits, num_lives=5):\n",
    "        self.random_fruit = random_fruit\n",
    "        r_fruit_chars = list(random_fruit)\n",
    "        rfc_len =  len(r_fruit_chars)\n",
    "        rf_let_list_small = [\"_\"]\n",
    "        r_fruit_let_list = rf_let_list_small * rfc_len\n",
    "        self.r_fruit_let_list = r_fruit_let_list\n",
    "        self.num_letters = rfc_len\n",
    "        self.num_lives = num_lives \n",
    "        self.list_of_fruits = list_of_fruits\n",
    "        self.list_of_guesses = list_of_guesses\n",
    "\n"
   ]
  },
  {
   "cell_type": "code",
   "execution_count": 13,
   "metadata": {},
   "outputs": [],
   "source": [
    "def check_guess(guess):\n",
    "  guess.lower()\n",
    "  if guess in random_fruit:\n",
    "       print(f\"Good guess! {guess} is in the word.\")\n",
    "  else: \n",
    "       print(f\"Sorry, {guess} is not in the word. Try again.\")\n",
    "  for let in r_fruit_chars:\n",
    "     if let == guess:\n",
    "        guess_index = r_fruit_chars.index(guess)\n",
    "        r_fruit_let_list[guess_index] = guess\n",
    "        (num_letters - 1)\n",
    "\n",
    "def ask_for_input():\n",
    "    while True:\n",
    "      guess = input('Please choose a letter: ')\n",
    "      if guess.isalpha() == False or len(guess) != 1:\n",
    "        print(\"Invalid letter. Please, enter a single alphabetical character.\")\n",
    "      elif guess in list_of_guesses:\n",
    "        print(\"you already tried that letter!\")\n",
    "      else:\n",
    "         if guess.isalpha() and len(guess) == 1:\n",
    "            check_guess(guess)\n",
    "      list_of_guesses.append(guess)"
   ]
  },
  {
   "cell_type": "code",
   "execution_count": 12,
   "metadata": {},
   "outputs": [
    {
     "name": "stdout",
     "output_type": "stream",
     "text": [
      "Good guess! r is in the word.\n"
     ]
    },
    {
     "ename": "UnboundLocalError",
     "evalue": "cannot access local variable 'r_fruit_chars' where it is not associated with a value",
     "output_type": "error",
     "traceback": [
      "\u001b[0;31m---------------------------------------------------------------------------\u001b[0m",
      "\u001b[0;31mUnboundLocalError\u001b[0m                         Traceback (most recent call last)",
      "Cell \u001b[0;32mIn[12], line 1\u001b[0m\n\u001b[0;32m----> 1\u001b[0m \u001b[43mask_for_input\u001b[49m\u001b[43m(\u001b[49m\u001b[43m)\u001b[49m\n",
      "Cell \u001b[0;32mIn[11], line 26\u001b[0m, in \u001b[0;36mask_for_input\u001b[0;34m()\u001b[0m\n\u001b[1;32m     24\u001b[0m \u001b[38;5;28;01melse\u001b[39;00m:\n\u001b[1;32m     25\u001b[0m    \u001b[38;5;28;01mif\u001b[39;00m guess\u001b[38;5;241m.\u001b[39misalpha() \u001b[38;5;129;01mand\u001b[39;00m \u001b[38;5;28mlen\u001b[39m(guess) \u001b[38;5;241m==\u001b[39m \u001b[38;5;241m1\u001b[39m:\n\u001b[0;32m---> 26\u001b[0m       \u001b[43mcheck_guess\u001b[49m\u001b[43m(\u001b[49m\u001b[43mguess\u001b[49m\u001b[43m)\u001b[49m\n\u001b[1;32m     27\u001b[0m    list_of_guesses\u001b[38;5;241m.\u001b[39mappend(guess)\n",
      "Cell \u001b[0;32mIn[11], line 7\u001b[0m, in \u001b[0;36mcheck_guess\u001b[0;34m(guess)\u001b[0m\n\u001b[1;32m      5\u001b[0m \u001b[38;5;28;01melse\u001b[39;00m: \n\u001b[1;32m      6\u001b[0m      \u001b[38;5;28mprint\u001b[39m(\u001b[38;5;124mf\u001b[39m\u001b[38;5;124m\"\u001b[39m\u001b[38;5;124mSorry, \u001b[39m\u001b[38;5;132;01m{\u001b[39;00mguess\u001b[38;5;132;01m}\u001b[39;00m\u001b[38;5;124m is not in the word. Try again.\u001b[39m\u001b[38;5;124m\"\u001b[39m)\n\u001b[0;32m----> 7\u001b[0m \u001b[38;5;28;01mfor\u001b[39;00m let \u001b[38;5;129;01min\u001b[39;00m \u001b[43mr_fruit_chars\u001b[49m:\n\u001b[1;32m      8\u001b[0m    \u001b[38;5;28;01mif\u001b[39;00m let \u001b[38;5;241m==\u001b[39m guess:\n\u001b[1;32m      9\u001b[0m       r_fruit_chars \u001b[38;5;241m=\u001b[39m \u001b[38;5;28mlist\u001b[39m(random_fruit)\n",
      "\u001b[0;31mUnboundLocalError\u001b[0m: cannot access local variable 'r_fruit_chars' where it is not associated with a value"
     ]
    }
   ],
   "source": [
    "ask_for_input()"
   ]
  }
 ],
 "metadata": {
  "kernelspec": {
   "display_name": "base",
   "language": "python",
   "name": "python3"
  },
  "language_info": {
   "codemirror_mode": {
    "name": "ipython",
    "version": 3
   },
   "file_extension": ".py",
   "mimetype": "text/x-python",
   "name": "python",
   "nbconvert_exporter": "python",
   "pygments_lexer": "ipython3",
   "version": "3.12.2"
  }
 },
 "nbformat": 4,
 "nbformat_minor": 2
}
