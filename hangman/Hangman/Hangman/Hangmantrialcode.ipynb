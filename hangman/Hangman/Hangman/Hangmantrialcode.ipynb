{
 "cells": [
  {
   "cell_type": "code",
   "execution_count": 4,
   "metadata": {},
   "outputs": [
    {
     "name": "stdout",
     "output_type": "stream",
     "text": [
      "['Apple', 'Orange', 'Banana', 'Rasberry', 'Strawberry']\n",
      "Apple\n"
     ]
    }
   ],
   "source": [
    "import random\n",
    "list_of_fruits = ['Apple', 'Orange', 'Banana' , 'Rasberry', 'Strawberry' ]\n",
    "\n",
    "print(list_of_fruits)\n",
    "\n",
    "random_fruit = random.choice(word_list)\n",
    "\n",
    "print(random_fruit)\n",
    "\n",
    "guess_a_letter = input('Please choose a letter: ')\n",
    "\n",
    "if guess_a_letter.isalpha() == True and len(guess) == 1:\n",
    "     print('Good guess!')\n",
    "else: \n",
    "   print(\"Oops! That is not a valid input\")\n",
    "\n",
    "\n"
   ]
  },
  {
   "cell_type": "code",
   "execution_count": 62,
   "metadata": {},
   "outputs": [
    {
     "name": "stdout",
     "output_type": "stream",
     "text": [
      "True\n",
      "False\n"
     ]
    }
   ],
   "source": [
    "print(guess.isalpha())\n",
    "print(len(guess) == 1)"
   ]
  }
 ],
 "metadata": {
  "kernelspec": {
   "display_name": "base",
   "language": "python",
   "name": "python3"
  },
  "language_info": {
   "codemirror_mode": {
    "name": "ipython",
    "version": 3
   },
   "file_extension": ".py",
   "mimetype": "text/x-python",
   "name": "python",
   "nbconvert_exporter": "python",
   "pygments_lexer": "ipython3",
   "version": "3.12.2"
  }
 },
 "nbformat": 4,
 "nbformat_minor": 2
}
