{
 "cells": [
  {
   "cell_type": "code",
   "execution_count": 11,
   "metadata": {},
   "outputs": [
    {
     "ename": "KeyboardInterrupt",
     "evalue": "",
     "output_type": "error",
     "traceback": [
      "\u001b[0;31m---------------------------------------------------------------------------\u001b[0m",
      "\u001b[0;31mKeyboardInterrupt\u001b[0m                         Traceback (most recent call last)",
      "Cell \u001b[0;32mIn[11], line 63\u001b[0m\n\u001b[1;32m     60\u001b[0m         \u001b[38;5;28;01melif\u001b[39;00m num_lives \u001b[38;5;241m!=\u001b[39m \u001b[38;5;241m0\u001b[39m \u001b[38;5;129;01mand\u001b[39;00m game\u001b[38;5;241m.\u001b[39mrf_num_ulet \u001b[38;5;241m==\u001b[39m \u001b[38;5;241m0\u001b[39m:\n\u001b[1;32m     61\u001b[0m           \u001b[38;5;28mprint\u001b[39m(\u001b[38;5;124m\"\u001b[39m\u001b[38;5;124mCongraulations, you have won! A million, billion, fluxtillionwillon blessings upon you and your family. Namste grasshopper!\u001b[39m\u001b[38;5;124m\"\u001b[39m)\n\u001b[0;32m---> 63\u001b[0m \u001b[43mplay_hangman\u001b[49m\u001b[43m(\u001b[49m\u001b[43mlist_of_fruits\u001b[49m\u001b[43m)\u001b[49m \n",
      "Cell \u001b[0;32mIn[11], line 59\u001b[0m, in \u001b[0;36mplay_hangman\u001b[0;34m(list_of_fruits)\u001b[0m\n\u001b[1;32m     57\u001b[0m   \u001b[38;5;28mprint\u001b[39m(\u001b[38;5;124m\"\u001b[39m\u001b[38;5;124mToo bad you lost, LoosSsSssssser, please try again, unless you \u001b[39m\u001b[38;5;124m\"\u001b[39m)\n\u001b[1;32m     58\u001b[0m \u001b[38;5;28;01melif\u001b[39;00m game\u001b[38;5;241m.\u001b[39mrf_num_ulet \u001b[38;5;241m>\u001b[39m \u001b[38;5;241m0\u001b[39m:\n\u001b[0;32m---> 59\u001b[0m       \u001b[43mask_for_input\u001b[49m\u001b[43m(\u001b[49m\u001b[43m)\u001b[49m\n\u001b[1;32m     60\u001b[0m \u001b[38;5;28;01melif\u001b[39;00m num_lives \u001b[38;5;241m!=\u001b[39m \u001b[38;5;241m0\u001b[39m \u001b[38;5;129;01mand\u001b[39;00m game\u001b[38;5;241m.\u001b[39mrf_num_ulet \u001b[38;5;241m==\u001b[39m \u001b[38;5;241m0\u001b[39m:\n\u001b[1;32m     61\u001b[0m   \u001b[38;5;28mprint\u001b[39m(\u001b[38;5;124m\"\u001b[39m\u001b[38;5;124mCongraulations, you have won! A million, billion, fluxtillionwillon blessings upon you and your family. Namste grasshopper!\u001b[39m\u001b[38;5;124m\"\u001b[39m)\n",
      "Cell \u001b[0;32mIn[11], line 46\u001b[0m, in \u001b[0;36mask_for_input\u001b[0;34m()\u001b[0m\n\u001b[1;32m     44\u001b[0m                             \u001b[38;5;28mprint\u001b[39m(\u001b[38;5;124mf\u001b[39m\u001b[38;5;124m\"\u001b[39m\u001b[38;5;124mSorry, \u001b[39m\u001b[38;5;132;01m{\u001b[39;00mguess\u001b[38;5;132;01m}\u001b[39;00m\u001b[38;5;124m is not in the word. Try again.\u001b[39m\u001b[38;5;124m\"\u001b[39m)\n\u001b[1;32m     45\u001b[0m                             \u001b[38;5;28mprint\u001b[39m(\u001b[38;5;124mf\u001b[39m\u001b[38;5;124m\"\u001b[39m\u001b[38;5;124mYou have \u001b[39m\u001b[38;5;132;01m{\u001b[39;00mnum_lives\u001b[38;5;132;01m}\u001b[39;00m\u001b[38;5;124m lives left.\u001b[39m\u001b[38;5;124m\"\u001b[39m)\n\u001b[0;32m---> 46\u001b[0m             \u001b[43mcheck_guess\u001b[49m\u001b[43m(\u001b[49m\u001b[43mguess\u001b[49m\u001b[43m)\u001b[49m\n\u001b[1;32m     47\u001b[0m list_of_guesses\u001b[38;5;241m.\u001b[39mappend(guess)\n\u001b[1;32m     48\u001b[0m \u001b[38;5;28mprint\u001b[39m(list_of_guesses)\n",
      "Cell \u001b[0;32mIn[11], line 32\u001b[0m, in \u001b[0;36mask_for_input.<locals>.check_guess\u001b[0;34m(guess)\u001b[0m\n\u001b[1;32m     30\u001b[0m \u001b[38;5;28;01melse\u001b[39;00m:\n\u001b[1;32m     31\u001b[0m     \u001b[38;5;28;01mif\u001b[39;00m guess\u001b[38;5;241m.\u001b[39misalpha() \u001b[38;5;129;01mand\u001b[39;00m \u001b[38;5;28mlen\u001b[39m(guess) \u001b[38;5;241m==\u001b[39m \u001b[38;5;241m1\u001b[39m:\n\u001b[0;32m---> 32\u001b[0m         \u001b[38;5;28;01mdef\u001b[39;00m \u001b[38;5;21mcheck_guess\u001b[39m(guess):\n\u001b[1;32m     33\u001b[0m             random_fruit \u001b[38;5;241m=\u001b[39m random\u001b[38;5;241m.\u001b[39mchoice(list_of_fruits)\n\u001b[1;32m     34\u001b[0m             guess\u001b[38;5;241m.\u001b[39mlower()\n",
      "\u001b[0;31mKeyboardInterrupt\u001b[0m: "
     ]
    }
   ],
   "source": [
    "import random\n",
    "\n",
    "list_of_fruits = ['apple', 'orange', 'banana' , 'rasberry', 'strawberry' ]\n",
    "\n",
    "class Hangman:\n",
    "    def __init__(self, list_of_fruits, num_lives):\n",
    "        random_fruit = random.choice(list_of_fruits)\n",
    "        self.random_fruit = random_fruit\n",
    "        r_fruit_chars = list(random_fruit)\n",
    "        rfc_len =  len(r_fruit_chars)\n",
    "        rfc_hangmanlist_small = [\"_\"]\n",
    "        rfc_hangmanlist = rfc_hangmanlist_small * rfc_len\n",
    "        self.rfc_hangmanlist = rfc_hangmanlist\n",
    "        set_rfc = set(r_fruit_chars)\n",
    "        rf_num_ulet = len(set_rfc)   \n",
    "        self.rf_num_ulet = rf_num_ulet\n",
    "        self.num_lives = num_lives \n",
    "        self.list_of_fruits = list_of_fruits\n",
    "        list_of_guesses = []\n",
    "        self.list_of_guesses = list_of_guesses\n",
    "        \n",
    "def ask_for_input():\n",
    "    guess = input('Please choose a letter: ')\n",
    "    list_of_guesses = []\n",
    "    while True:\n",
    "        if guess.isalpha() == False or len(guess) != 1:\n",
    "            print(\"Invalid letter. Please, enter a single alphabetical character.\")\n",
    "        elif guess in list_of_guesses:\n",
    "            print(\"you already tried that letter!\")\n",
    "        else:\n",
    "            if guess.isalpha() and len(guess) == 1:\n",
    "                def check_guess(guess):\n",
    "                    random_fruit = random.choice(list_of_fruits)\n",
    "                    guess.lower()\n",
    "                    if guess in random_fruit:\n",
    "                        print(f\"Good guess! {guess} is in the word.\")\n",
    "                        for let in random_fruit:\n",
    "                            if let == guess:\n",
    "                                guess_index_num = r_fruit_chars.index(guess)\n",
    "                                rfc_hangmanlist[guess_index_num] = guess\n",
    "                                rf_num_ulet -= 1\n",
    "                            if guess not in random_fruit:   \n",
    "                                num_lives -= 1\n",
    "                                print(f\"Sorry, {guess} is not in the word. Try again.\")\n",
    "                                print(f\"You have {num_lives} lives left.\")\n",
    "                check_guess(guess)\n",
    "    list_of_guesses.append(guess)\n",
    "    print(list_of_guesses)\n",
    "                \n",
    "        \n",
    "\n",
    "def play_hangman(list_of_fruits):\n",
    "    num_lives = 5\n",
    "    game = Hangman(list_of_fruits, num_lives)\n",
    "    while True:\n",
    "        if num_lives == 0:\n",
    "          print(\"Too bad you lost, LoosSsSssssser, please try again, unless you \")\n",
    "        elif game.rf_num_ulet > 0:\n",
    "              ask_for_input()\n",
    "        elif num_lives != 0 and game.rf_num_ulet == 0:\n",
    "          print(\"Congraulations, you have won! A million, billion, fluxtillionwillon blessings upon you and your family. Namste grasshopper!\")\n",
    "\n",
    "play_hangman(list_of_fruits) "
   ]
  }
 ],
 "metadata": {
  "kernelspec": {
   "display_name": "base",
   "language": "python",
   "name": "python3"
  },
  "language_info": {
   "codemirror_mode": {
    "name": "ipython",
    "version": 3
   },
   "file_extension": ".py",
   "mimetype": "text/x-python",
   "name": "python",
   "nbconvert_exporter": "python",
   "pygments_lexer": "ipython3",
   "version": "3.12.2"
  }
 },
 "nbformat": 4,
 "nbformat_minor": 2
}
