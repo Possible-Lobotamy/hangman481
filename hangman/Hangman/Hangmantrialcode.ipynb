{
 "cells": [
  {
   "cell_type": "code",
   "execution_count": 4,
   "metadata": {},
   "outputs": [
    {
     "name": "stdout",
     "output_type": "stream",
     "text": [
      "['Apple', 'Orange', 'Banana', 'Rasberry', 'Strawberry']\n",
      "Apple\n"
     ]
    }
   ],
   "source": [
    "import random\n",
    "list_of_fruits = ['Apple', 'Orange', 'Banana' , 'Rasberry', 'Strawberry' ]\n",
    "\n",
    "print(list_of_fruits)\n",
    "\n",
    "random_fruit = random.choice(word_list)\n",
    "\n",
    "print(random_fruit)\n",
    "\n",
    "guess = input('Please choose a letter: ')\n",
    "\n",
    "if guess.isalpha() == True and len(guess) == 1:\n",
    "     print('Good guess!')\n",
    "else: \n",
    "   print(\"Oops! That is not a valid input\")\n",
    "\n",
    "\n",
    "\n"
   ]
  },
  {
   "cell_type": "code",
   "execution_count": 1,
   "metadata": {},
   "outputs": [
    {
     "ename": "NameError",
     "evalue": "name 'guess' is not defined",
     "output_type": "error",
     "traceback": [
      "\u001b[0;31m---------------------------------------------------------------------------\u001b[0m",
      "\u001b[0;31mNameError\u001b[0m                                 Traceback (most recent call last)",
      "Cell \u001b[0;32mIn[1], line 1\u001b[0m\n\u001b[0;32m----> 1\u001b[0m \u001b[38;5;28mprint\u001b[39m(\u001b[43mguess\u001b[49m\u001b[38;5;241m.\u001b[39misalpha())\n\u001b[1;32m      2\u001b[0m \u001b[38;5;28mprint\u001b[39m(\u001b[38;5;28mlen\u001b[39m(guess) \u001b[38;5;241m==\u001b[39m \u001b[38;5;241m1\u001b[39m)\n",
      "\u001b[0;31mNameError\u001b[0m: name 'guess' is not defined"
     ]
    }
   ],
   "source": [
    "print(guess.isalpha())\n",
    "print(len(guess) == 1)"
   ]
  },
  {
   "cell_type": "code",
   "execution_count": null,
   "metadata": {},
   "outputs": [
    {
     "name": "stdout",
     "output_type": "stream",
     "text": [
      "Invalid letter. Please, enter a single alphabetical character.\n",
      "Invalid letter. Please, enter a single alphabetical character.\n",
      "Invalid letter. Please, enter a single alphabetical character.\n",
      "Invalid letter. Please, enter a single alphabetical character.\n",
      "Invalid letter. Please, enter a single alphabetical character.\n",
      "Invalid letter. Please, enter a single alphabetical character.\n",
      "Invalid letter. Please, enter a single alphabetical character.\n",
      "Invalid letter. Please, enter a single alphabetical character.\n",
      "Invalid letter. Please, enter a single alphabetical character.\n",
      "Invalid letter. Please, enter a single alphabetical character.\n",
      "Invalid letter. Please, enter a single alphabetical character.\n",
      "Invalid letter. Please, enter a single alphabetical character.\n",
      "Invalid letter. Please, enter a single alphabetical character.\n",
      "Invalid letter. Please, enter a single alphabetical character.\n",
      "Invalid letter. Please, enter a single alphabetical character.\n",
      "Invalid letter. Please, enter a single alphabetical character.\n",
      "Invalid letter. Please, enter a single alphabetical character.\n",
      "Invalid letter. Please, enter a single alphabetical character.\n",
      "Invalid letter. Please, enter a single alphabetical character.\n",
      "Invalid letter. Please, enter a single alphabetical character.\n",
      "Invalid letter. Please, enter a single alphabetical character.\n",
      "Invalid letter. Please, enter a single alphabetical character.\n",
      "Invalid letter. Please, enter a single alphabetical character.\n",
      "Invalid letter. Please, enter a single alphabetical character.\n",
      "Invalid letter. Please, enter a single alphabetical character.\n",
      "Invalid letter. Please, enter a single alphabetical character.\n",
      "Invalid letter. Please, enter a single alphabetical character.\n",
      "Invalid letter. Please, enter a single alphabetical character.\n",
      "Invalid letter. Please, enter a single alphabetical character.\n",
      "Invalid letter. Please, enter a single alphabetical character.\n",
      "Invalid letter. Please, enter a single alphabetical character.\n",
      "Invalid letter. Please, enter a single alphabetical character.\n",
      "Invalid letter. Please, enter a single alphabetical character.\n",
      "Invalid letter. Please, enter a single alphabetical character.\n",
      "Invalid letter. Please, enter a single alphabetical character.\n",
      "Invalid letter. Please, enter a single alphabetical character.\n",
      "Invalid letter. Please, enter a single alphabetical character.\n",
      "Invalid letter. Please, enter a single alphabetical character.\n",
      "Invalid letter. Please, enter a single alphabetical character.\n",
      "Invalid letter. Please, enter a single alphabetical character.\n",
      "Invalid letter. Please, enter a single alphabetical character.\n",
      "Invalid letter. Please, enter a single alphabetical character.\n",
      "Invalid letter. Please, enter a single alphabetical character.\n",
      "Invalid letter. Please, enter a single alphabetical character.\n",
      "Invalid letter. Please, enter a single alphabetical character.\n",
      "Invalid letter. Please, enter a single alphabetical character.\n",
      "Invalid letter. Please, enter a single alphabetical character.\n",
      "Invalid letter. Please, enter a single alphabetical character.\n",
      "Invalid letter. Please, enter a single alphabetical character.\n",
      "Invalid letter. Please, enter a single alphabetical character.\n"
     ]
    }
   ],
   "source": [
    "while True:\n",
    "\n",
    "  guess = input('Please choose a letter: ')\n",
    "\n",
    "  if guess.isalpha()  and len(guess) == 1:\n",
    "     continue\n",
    "  else:\n",
    "     print(\"Invalid letter. Please, enter a single alphabetical character.\")\n",
    "  "
   ]
  }
 ],
 "metadata": {
  "kernelspec": {
   "display_name": "base",
   "language": "python",
   "name": "python3"
  },
  "language_info": {
   "codemirror_mode": {
    "name": "ipython",
    "version": 3
   },
   "file_extension": ".py",
   "mimetype": "text/x-python",
   "name": "python",
   "nbconvert_exporter": "python",
   "pygments_lexer": "ipython3",
   "version": "3.12.2"
  }
 },
 "nbformat": 4,
 "nbformat_minor": 2
}
