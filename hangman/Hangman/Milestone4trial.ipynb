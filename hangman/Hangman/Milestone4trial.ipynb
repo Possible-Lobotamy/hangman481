{
 "cells": [
  {
   "cell_type": "code",
   "execution_count": null,
   "metadata": {},
   "outputs": [],
   "source": [
    "import random\n",
    "list_of_fruits = ['apple', 'orange', 'banana' , 'rasberry', 'strawberry' ]\n",
    "random_fruit = random.choice(list_of_fruits)\n",
    "list_of_guesses = []\n",
    "print(random_fruit)\n",
    "\n",
    "class Hangman:\n",
    "    def __init__(self, list_of_fruits, num_lives=5):\n",
    "        self.random_fruit = random_fruit\n",
    "        r_fruit_chars = list(random_fruit)\n",
    "        rfc_len =  len(r_fruit_chars)\n",
    "        rf_let_list_small = [\"_\"]\n",
    "        r_fruit_let_list = rf_let_list_small * rfc_len\n",
    "        self.r_fruit_let_list = r_fruit_let_list\n",
    "        self.num_letters = rfc_len\n",
    "        self.num_lives = num_lives \n",
    "        self.list_of_fruits = list_of_fruits\n",
    "        self.list_of_guesses = list_of_guesses\n",
    "\n",
    "def check_guess(guess):\n",
    "  guess.lower()\n",
    "\n",
    "  r_fruit_chars = list(random_fruit)\n",
    "  rfc_len =  len(r_fruit_chars)\n",
    "  rf_let_list_small = [\"_\"]\n",
    "  r_fruit_let_list = rf_let_list_small * rfc_len\n",
    "  \n",
    "  if guess in random_fruit:\n",
    "       print(f\"Good guess! {guess} is in the word.\")\n",
    "  else: \n",
    "       print(f\"Sorry, {guess} is not in the word. Try again.\")\n",
    "  for let in r_fruit_chars:\n",
    "     if let == guess:\n",
    "        guess_index = r_fruit_chars.index(guess)\n",
    "        r_fruit_let_list[guess_index] = guess\n",
    "        (num_letters - 1)\n",
    "\n",
    "def ask_for_input():\n",
    "    while True:\n",
    "      guess = input('Please choose a letter: ')\n",
    "      if guess.isalpha() == False or len(guess) != 1:\n",
    "        print(\"Invalid letter. Please, enter a single alphabetical character.\")\n",
    "      elif guess in list_of_guesses:\n",
    "        print(\"you already tried that letter!\")\n",
    "      else:\n",
    "         if guess.isalpha() and len(guess) == 1:\n",
    "            check_guess(guess)\n",
    "      list_of_guesses.append(guess)"
   ]
  }
 ],
 "metadata": {
  "language_info": {
   "name": "python"
  }
 },
 "nbformat": 4,
 "nbformat_minor": 2
}
